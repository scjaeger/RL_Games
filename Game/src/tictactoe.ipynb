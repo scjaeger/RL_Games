{
 "cells": [
  {
   "cell_type": "code",
   "execution_count": 1,
   "id": "121091af-7ad5-469b-874e-e09e2a58cdad",
   "metadata": {},
   "outputs": [],
   "source": [
    "import random"
   ]
  },
  {
   "cell_type": "code",
   "execution_count": 37,
   "id": "a6691402-aac4-41d3-a13d-c2449f3d7190",
   "metadata": {},
   "outputs": [],
   "source": [
    "class TicTacToe:\n",
    "    def __init__(self, state=None, players=None):\n",
    "        self.state = state\n",
    "        self.players = players\n",
    "    \n",
    "    def set_players(self, players):\n",
    "        self.players=players\n",
    "    \n",
    "    def get_starter(self):\n",
    "        count = len(self.players)\n",
    "        starter = self.player(random.randint(0,count-1))\n",
    "        return starter"
   ]
  },
  {
   "cell_type": "code",
   "execution_count": 2,
   "id": "14112906-a7df-4766-a4f3-f06be50c60f8",
   "metadata": {},
   "outputs": [],
   "source": [
    "class State:\n",
    "    def __init__(self, player=None):\n",
    "        self.board = ['X', 'O', 'X', 'O', 'X', ' ', ' ', ' ', ' ']\n",
    "        self.player = player\n",
    "        \n",
    "    def get_action(self):\n",
    "        actions = []\n",
    "        for index, value in enumerate(self.board):\n",
    "            if (value == ' '):\n",
    "                actions.append(index)\n",
    "        return actions\n",
    "        \n",
    "    def do_action(self, player, position):\n",
    "        self.board[position] = player\n",
    "    \n",
    "    def change_player(self):\n",
    "        if (self.player == 'X'):\n",
    "            self.player == 'O'\n",
    "        else:\n",
    "            self.player == 'X'\n",
    "    \n",
    "    def check_win(self, player):\n",
    "        if ((self.board[0] == self.board[1] == self.board[2] == player) or\n",
    "            (self.board[3] == self.board[4] == self.board[5] == player) or\n",
    "            (self.board[6] == self.board[7] == self.board[8] == player) or\n",
    "            (self.board[0] == self.board[3] == self.board[6] == player) or\n",
    "            (self.board[1] == self.board[4] == self.board[7] == player) or\n",
    "            (self.board[2] == self.board[5] == self.board[8] == player) or\n",
    "            (self.board[0] == self.board[4] == self.board[8] == player) or\n",
    "            (self.board[2] == self.board[4] == self.board[6] == player)):\n",
    "            return True, player\n",
    "        else:\n",
    "            return False\n",
    "    \n",
    "    def print_board(self):\n",
    "        for index, value in enumerate(self.board):\n",
    "            if ((index == 2) or (index == 5)):\n",
    "                print(' {0} '.format(value))\n",
    "                print('-----------')\n",
    "            elif (index == 8):\n",
    "                print(' {0} '.format(value), end='')\n",
    "            else:\n",
    "                print(' {0} |'.format(value), end='')\n",
    "    \n",
    "    def get_board(self):\n",
    "        return self.board\n",
    "    \n",
    "    def set_board(self, board):\n",
    "        self.board = board\n",
    "        \n",
    "    def get_player(self):\n",
    "        return self.player\n",
    "    \n",
    "    def set_player(self, player):\n",
    "        self.player = player"
   ]
  },
  {
   "cell_type": "code",
   "execution_count": 2,
   "id": "c8063cf7-13cf-4794-b86a-6bc04909a47b",
   "metadata": {},
   "outputs": [],
   "source": [
    "class Player:\n",
    "    def __init__(self, name, sign):\n",
    "        self.name = name\n",
    "        self.sign = sign\n",
    "        \n",
    "    def get_player_name(self):\n",
    "        return self.name\n",
    "    \n",
    "    def set_player_name(self, name):\n",
    "        self.name = name\n",
    "    \n",
    "    def get_player_sign(self):\n",
    "        return self.sign\n",
    "    \n",
    "    def set_player_sign(self, sign):\n",
    "        self.sign = sign"
   ]
  },
  {
   "cell_type": "code",
   "execution_count": 42,
   "id": "d7526c81-8b92-4e9c-963c-aaddedd5f54d",
   "metadata": {},
   "outputs": [],
   "source": [
    "state = State()"
   ]
  },
  {
   "cell_type": "code",
   "execution_count": 3,
   "id": "ad8fef71-b4a4-4c55-bd61-e07532402afb",
   "metadata": {},
   "outputs": [
    {
     "name": "stdout",
     "output_type": "stream",
     "text": [
      " X | O | X \n",
      "-----------\n",
      " O | X |   \n",
      "-----------\n",
      "   |   |   "
     ]
    },
    {
     "data": {
      "text/plain": [
       "[5, 6, 7, 8]"
      ]
     },
     "execution_count": 3,
     "metadata": {},
     "output_type": "execute_result"
    }
   ],
   "source": [
    "state = State('X')\n",
    "state.print_board()\n",
    "state.check_win('X')\n",
    "state.get_moves()"
   ]
  },
  {
   "cell_type": "code",
   "execution_count": 83,
   "id": "ac24a1d0-678d-4ab9-a143-ab25f9ee4009",
   "metadata": {},
   "outputs": [
    {
     "data": {
      "text/plain": [
       "'O'"
      ]
     },
     "execution_count": 83,
     "metadata": {},
     "output_type": "execute_result"
    }
   ],
   "source": [
    "state.get_player()"
   ]
  },
  {
   "cell_type": "code",
   "execution_count": 82,
   "id": "69908892-2321-44db-981c-58bf18b93f9a",
   "metadata": {},
   "outputs": [],
   "source": [
    "state.set_player('O')"
   ]
  },
  {
   "cell_type": "code",
   "execution_count": 6,
   "id": "edff8400-4398-4f5b-bb67-994451308ad8",
   "metadata": {},
   "outputs": [],
   "source": [
    "player1 = Player(\"Logi\", \"X\")"
   ]
  },
  {
   "cell_type": "code",
   "execution_count": 7,
   "id": "ae877593-5c68-4f6b-84b5-671c84baca1a",
   "metadata": {},
   "outputs": [
    {
     "ename": "NameError",
     "evalue": "name 'playe1' is not defined",
     "output_type": "error",
     "traceback": [
      "\u001b[1;31m---------------------------------------------------------------------------\u001b[0m",
      "\u001b[1;31mNameError\u001b[0m                                 Traceback (most recent call last)",
      "Input \u001b[1;32mIn [7]\u001b[0m, in \u001b[0;36m<cell line: 1>\u001b[1;34m()\u001b[0m\n\u001b[1;32m----> 1\u001b[0m \u001b[43mplaye1\u001b[49m\n",
      "\u001b[1;31mNameError\u001b[0m: name 'playe1' is not defined"
     ]
    }
   ],
   "source": [
    "playe1"
   ]
  },
  {
   "cell_type": "code",
   "execution_count": 8,
   "id": "f6f4d225-6f99-46a8-bb79-e6c1590d245a",
   "metadata": {},
   "outputs": [
    {
     "data": {
      "text/plain": [
       "<__main__.Player at 0x20849f72b80>"
      ]
     },
     "execution_count": 8,
     "metadata": {},
     "output_type": "execute_result"
    }
   ],
   "source": [
    "player1"
   ]
  },
  {
   "cell_type": "code",
   "execution_count": 9,
   "id": "2a16414b-68bd-429c-b6d1-129863ebb544",
   "metadata": {},
   "outputs": [
    {
     "data": {
      "text/plain": [
       "'Logi'"
      ]
     },
     "execution_count": 9,
     "metadata": {},
     "output_type": "execute_result"
    }
   ],
   "source": [
    "player1.name"
   ]
  },
  {
   "cell_type": "code",
   "execution_count": 10,
   "id": "88810209-3a0a-4a2f-b49c-1ad834916610",
   "metadata": {},
   "outputs": [
    {
     "data": {
      "text/plain": [
       "'X'"
      ]
     },
     "execution_count": 10,
     "metadata": {},
     "output_type": "execute_result"
    }
   ],
   "source": [
    "player1.sign"
   ]
  },
  {
   "cell_type": "code",
   "execution_count": 12,
   "id": "32dbfdbf-152c-4944-a1b3-774509f94ed1",
   "metadata": {},
   "outputs": [
    {
     "data": {
      "text/plain": [
       "2"
      ]
     },
     "execution_count": 12,
     "metadata": {},
     "output_type": "execute_result"
    }
   ],
   "source": [
    "test = [1, 2]\n",
    "\n",
    "len(test)"
   ]
  },
  {
   "cell_type": "code",
   "execution_count": 19,
   "id": "7839d77f-5675-4fec-a453-b2b13f81450c",
   "metadata": {},
   "outputs": [
    {
     "name": "stdout",
     "output_type": "stream",
     "text": [
      "1\n"
     ]
    }
   ],
   "source": [
    "import random\n",
    "\n",
    "print(random.randint(0,1))"
   ]
  },
  {
   "cell_type": "code",
   "execution_count": 21,
   "id": "21c0868d-d6ea-4a4f-ac24-54a7377e05f4",
   "metadata": {},
   "outputs": [],
   "source": [
    "def get_starter(self):\n",
    "    count = len(self.players)\n",
    "    starter = random.randint(0,count-1)\n",
    "    return starter"
   ]
  },
  {
   "cell_type": "code",
   "execution_count": 26,
   "id": "af80b53c-297f-4bc9-b33b-a8b83993286c",
   "metadata": {},
   "outputs": [],
   "source": [
    "test = TicTacToe(None, [\"foo\", \"bar\"])"
   ]
  },
  {
   "cell_type": "code",
   "execution_count": 36,
   "id": "9fddf23f-d85f-4980-98cf-f310bfde8653",
   "metadata": {},
   "outputs": [
    {
     "data": {
      "text/plain": [
       "0"
      ]
     },
     "execution_count": 36,
     "metadata": {},
     "output_type": "execute_result"
    }
   ],
   "source": [
    "test.get_starter()"
   ]
  },
  {
   "cell_type": "code",
   "execution_count": 38,
   "id": "80f53d34-70d7-4d4b-bdb4-79317d2be09d",
   "metadata": {},
   "outputs": [],
   "source": [
    "temp = TicTacToe()"
   ]
  },
  {
   "cell_type": "code",
   "execution_count": null,
   "id": "78835e87-f531-4783-b179-b58b9552681a",
   "metadata": {},
   "outputs": [],
   "source": [
    "player1 = Player(\"player1\", "
   ]
  }
 ],
 "metadata": {
  "kernelspec": {
   "display_name": "Python 3 (ipykernel)",
   "language": "python",
   "name": "python3"
  },
  "language_info": {
   "codemirror_mode": {
    "name": "ipython",
    "version": 3
   },
   "file_extension": ".py",
   "mimetype": "text/x-python",
   "name": "python",
   "nbconvert_exporter": "python",
   "pygments_lexer": "ipython3",
   "version": "3.9.7"
  }
 },
 "nbformat": 4,
 "nbformat_minor": 5
}
