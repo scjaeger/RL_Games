{
 "cells": [
  {
   "cell_type": "code",
   "execution_count": 1,
   "metadata": {},
   "outputs": [],
   "source": [
    "import numpy as np\n",
    "import matplotlib.pyplot as plt\n",
    "import random\n",
    "from IPython.display import display, clear_output"
   ]
  },
  {
   "attachments": {},
   "cell_type": "markdown",
   "metadata": {},
   "source": [
    "# Constants"
   ]
  },
  {
   "cell_type": "code",
   "execution_count": 2,
   "metadata": {},
   "outputs": [],
   "source": [
    "initial_board = np.zeros((6, 7), int)"
   ]
  },
  {
   "attachments": {},
   "cell_type": "markdown",
   "metadata": {},
   "source": [
    "# Game"
   ]
  },
  {
   "cell_type": "code",
   "execution_count": 3,
   "metadata": {},
   "outputs": [],
   "source": [
    "class State():\n",
    "    def __init__(self, board: np.array, player: int = np.random.randint(1, 3), game_over: bool = False, winner: int = None):\n",
    "        self.board = board\n",
    "        self.player = player\n",
    "        self.winner = winner\n",
    "        self.game_over = game_over\n",
    "        \n",
    "        \n",
    "    def get_actions(self) -> list:\n",
    "        '''\n",
    "        creates a list of column indices that are available for turns\n",
    "        \n",
    "        return:\n",
    "            list of column indices\n",
    "        '''\n",
    "        \n",
    "        # get all columns where the top row is 0 / empty\n",
    "        actions = np.where(self.board[0,:] == 0)\n",
    "        \n",
    "        return list(actions[0])\n",
    "    \n",
    "    \n",
    "    def perform_action(self, column: int):\n",
    "        '''\n",
    "        adds a the player's coin value to the given columns on the board\n",
    "        \n",
    "        Args:\n",
    "            column: Index of the column that is used for this turn\n",
    "        '''\n",
    "        \n",
    "        # set height \n",
    "        height = self.board.shape[0]\n",
    "        \n",
    "        # loop backwards from height to 0\n",
    "        for row in range(height -1, -1, -1):\n",
    "            \n",
    "            # add player number to position if it is empty (0) and break loop\n",
    "            if self.board[row, column] == 0:\n",
    "                \n",
    "                new_board = self.board.copy()\n",
    "                new_board[row, column] = self.player\n",
    "                \n",
    "                winner = self.check_win(new_board, row, column)\n",
    "                \n",
    "                if self.winner or 0 not in new_board:\n",
    "                    game_over = True\n",
    "                else:\n",
    "                    game_over = False\n",
    "                \n",
    "                player = self.change_player()\n",
    "                    \n",
    "                return State(new_board, player, game_over, winner) \n",
    "        \n",
    "        print(\"Error while perform_action\")\n",
    "        return None\n",
    "    \n",
    "    \n",
    "    def check_win(self, board: np.array, row: int, column: int) -> bool:\n",
    "        '''\n",
    "        checks win conditions for current player by checking straight and diagonal lines through the last used position\n",
    "        \n",
    "        Args:\n",
    "            row: row index of the position of the last action\n",
    "            column: column index of the position of the last action\n",
    "        \n",
    "        return:\n",
    "            True if game is won, else False\n",
    "        '''\n",
    "        \n",
    "        # set possible lines through given position on board defined by row and column\n",
    "        lines = {\n",
    "            \"horizontal\": board[row, :],\n",
    "            \"vertical\": board[:, column],\n",
    "            \"diagonal_1\": np.diagonal(board, offset= column - row),\n",
    "            \"diagonal_2\": np.diagonal(np.flipud(board), offset = column - (board.shape[0] - row - 1)),\n",
    "            }\n",
    "        \n",
    "        # loop through possible lines and check for positions marked with current player's number\n",
    "        for key in lines.keys():\n",
    "            # set counter and loop through line\n",
    "            counter = 0\n",
    "            for position in lines[key]:\n",
    "                \n",
    "                # increase counter if player's number is found\n",
    "                if position == self.player:\n",
    "                    counter += 1\n",
    "                    \n",
    "                    # return true and end loop if counter reaches 4\n",
    "                    if counter >= 4:\n",
    "                        # print(f\"{key} winning line at row {row}, column {column}\")\n",
    "                        return self.player\n",
    "                    \n",
    "                # reset counter if another value than the player's number is found \n",
    "                else:\n",
    "                    counter = 0\n",
    "                    \n",
    "        return None  \n",
    "    \n",
    "    \n",
    "    def change_player(self) -> int:\n",
    "        '''\n",
    "        Sets the value of the player to 2 if 1 is given and vice versa\n",
    "        \n",
    "        return:\n",
    "            number of new player\n",
    "        '''\n",
    "        \n",
    "        if self.player == 1:\n",
    "            player = 2\n",
    "        else:\n",
    "            player = 1\n",
    "        \n",
    "        return player"
   ]
  },
  {
   "attachments": {},
   "cell_type": "markdown",
   "metadata": {},
   "source": [
    "# Tree"
   ]
  },
  {
   "cell_type": "code",
   "execution_count": 4,
   "metadata": {},
   "outputs": [],
   "source": [
    "class Node():\n",
    "    def __init__(self, parent, state: State):\n",
    "        self.state = state\n",
    "        self.parent = parent\n",
    "        self.edges = self.state.get_actions()\n",
    "        self.children  = []\n",
    "        self.times_tested = 0\n",
    "        self.times_won = 0\n",
    "        self.explored = False"
   ]
  },
  {
   "attachments": {},
   "cell_type": "markdown",
   "metadata": {},
   "source": [
    "# Utils"
   ]
  },
  {
   "cell_type": "code",
   "execution_count": 5,
   "metadata": {},
   "outputs": [],
   "source": [
    "def show_board(state: State, delay: float = 0.01):\n",
    "    \n",
    "    plt.style.use('dark_background')\n",
    "    fig, ax = plt.subplots()\n",
    "    ax.imshow(state.board)\n",
    "    if state.winner:\n",
    "        ax.set_title(f\"player {state.winner} has won\")\n",
    "    elif state.game_over:\n",
    "        ax.set_title(f\"Game Over\")\n",
    "    \n",
    "    display(fig)\n",
    "    clear_output(wait=True)\n",
    "    plt.pause(delay)"
   ]
  },
  {
   "attachments": {},
   "cell_type": "markdown",
   "metadata": {},
   "source": [
    "# Selection"
   ]
  },
  {
   "cell_type": "code",
   "execution_count": 6,
   "metadata": {},
   "outputs": [],
   "source": [
    "def UCT(node: Node, c: float = np.sqrt(2)) -> int:\n",
    "    '''\n",
    "    chooses an index for a list of nodes based on upper confidence boundary calculation\n",
    "    \n",
    "    Args:\n",
    "        ....\n",
    "    '''\n",
    "    children = [child for child in node.children if not child.explored]\n",
    "        \n",
    "    n_tests = np.array([child.times_tested for child in children])\n",
    "    \n",
    "    n_wins = np.array([child.times_won for child in children])\n",
    "\n",
    "    # calculate uct value\n",
    "    uct = (n_wins/n_tests) + c * np.sqrt(np.emath.log(node.times_tested) / n_tests)\n",
    "    print(uct)\n",
    "    # get index of highest value\n",
    "    node_index = np.argmax(uct)\n",
    "\n",
    "    chosen_node = children[node_index]\n",
    "    \n",
    "    \n",
    "    ################\n",
    "    # MINIMUM FÜR GEGENSPIELER BERÜCKSICHTIGEN\n",
    "    ################\n",
    "    return chosen_node\n",
    "\n",
    "\n",
    "\n",
    "def select_node(node: Node) -> Node:\n",
    "    '''\n",
    "    selects Node to test/ simulate based on their previous outcomes and amount of exploration.\n",
    "    \n",
    "    Args:\n",
    "        root: Starting Node for selection\n",
    "        \n",
    "    return:\n",
    "        Node to elaborate\n",
    "    '''\n",
    "    \n",
    "    # check if untested actions are available\n",
    "    if node.edges:\n",
    "        \n",
    "        # pick a random untested action\n",
    "        edge = random.choice(node.edges)\n",
    "        \n",
    "        # delete chosen action from list\n",
    "        node.edges.remove(edge)\n",
    "        \n",
    "        # create \n",
    "        new_state = node.state.perform_action(edge)\n",
    "        \n",
    "        new_node = Node(node, new_state)\n",
    "        node.children.append(new_node)\n",
    "            \n",
    "    else:\n",
    "    \n",
    "        # get the exploration values of root's children\n",
    "        \n",
    "\n",
    "        uct_node = UCT(node)\n",
    "        \n",
    "        if uct_node.children or uct_node.edges:\n",
    "            new_node = select_node(uct_node)\n",
    "            \n",
    "        else:\n",
    "            print(\"This should not happen\")   \n",
    "            \n",
    "    \n",
    "    return new_node \n",
    "        \n"
   ]
  },
  {
   "attachments": {},
   "cell_type": "markdown",
   "metadata": {},
   "source": [
    "# Expansion"
   ]
  },
  {
   "cell_type": "code",
   "execution_count": 7,
   "metadata": {},
   "outputs": [],
   "source": [
    "# def expand_tree(node: Node) -> Node:\n",
    "    \n",
    "#     if node.times_tested > 0:\n",
    "#         node.get_children()\n",
    "        \n",
    "#         if node.children:\n",
    "#             new_node = random.choice(node.children)\n",
    "            \n",
    "#             return new_node\n",
    "        \n",
    "#         else:\n",
    "#             node.explored = True\n",
    "#             ########\n",
    "#             # check/ handover if simulation is necessary\n",
    "#             #######\n",
    "#             # explored maybe added in simulation phase\n",
    "#             #######\n",
    "#             return node\n",
    "        \n",
    "#     else:\n",
    "#         return node"
   ]
  },
  {
   "attachments": {},
   "cell_type": "markdown",
   "metadata": {},
   "source": [
    "# Simulation"
   ]
  },
  {
   "cell_type": "code",
   "execution_count": 8,
   "metadata": {},
   "outputs": [],
   "source": [
    "def simulate(node: Node) -> bool:\n",
    "    '''\n",
    "    Uses random choices to simulate the outcome of a game\n",
    "    \n",
    "    Args:\n",
    "        Node: Defines the starting situation of the simulation\n",
    "        \n",
    "    Return:\n",
    "        True if active player in given node wins, False if not or draw\n",
    "    '''\n",
    "\n",
    "    state = node.state\n",
    "    \n",
    "    active_player = state.player\n",
    "    \n",
    "    while not state.winner and not state.game_over:\n",
    "        action = random.choice(state.get_actions())\n",
    "        \n",
    "        state = state.perform_action(action)\n",
    "       \n",
    "    return state.winner, state.board\n",
    "        "
   ]
  },
  {
   "attachments": {},
   "cell_type": "markdown",
   "metadata": {},
   "source": [
    "# Backpropagation"
   ]
  },
  {
   "cell_type": "code",
   "execution_count": 9,
   "metadata": {},
   "outputs": [],
   "source": [
    "def check_full_exploration(node: Node) -> True:\n",
    "    \n",
    "    children = [child for child in node.children if not child.explored]\n",
    "    \n",
    "    if not node.edges and not children:\n",
    "        return True\n",
    "    else:\n",
    "        return False\n",
    "\n",
    "\n",
    "def backpropagate(node: Node, winner: int) -> None:\n",
    "    \n",
    "    while node.parent:\n",
    "        \n",
    "        node.explored = check_full_exploration(node)\n",
    "        \n",
    "        node.times_tested += 1\n",
    "        if node.state.change_player() == winner:\n",
    "            node.times_won += 1\n",
    "            \n",
    "        node = node.parent\n",
    "        \n",
    "    node.times_tested += 1\n",
    "        \n",
    "    return None"
   ]
  },
  {
   "attachments": {},
   "cell_type": "markdown",
   "metadata": {},
   "source": [
    "# Monte Carlo Tree Search"
   ]
  },
  {
   "cell_type": "code",
   "execution_count": 10,
   "metadata": {},
   "outputs": [],
   "source": [
    "def mcts(root: Node) -> State:\n",
    "    \n",
    "    t = 0\n",
    "    tree_search = True\n",
    "    \n",
    "    while t < 100 and tree_search:\n",
    "        if select_node(root):\n",
    "            node = select_node(root)\n",
    "            winner, _  = simulate(node)\n",
    "            backpropagate(node, winner)\n",
    "            \n",
    "            t += 1\n",
    "        \n",
    "        else:\n",
    "            tree_search = False\n",
    "    \n",
    "    state = choose_action(root)\n",
    "\n",
    "    return state\n",
    "    \n",
    "def choose_action(root: Node) -> int:\n",
    "    \n",
    "    indices = np.array([]) \n",
    "    values = np.array([])\n",
    "    n_tests = np.array([])\n",
    "    \n",
    "    for i, child in enumerate(root.children):\n",
    "        if child.times_tested > 0:\n",
    "            indices = np.append(indices, i)\n",
    "            values = np.append(values, child.times_won)\n",
    "            n_tests = np.append(n_tests, child.times_tested)\n",
    "\n",
    "    \n",
    "    mean_values = values/ n_tests\n",
    "    max_value = np.argmax(mean_values)\n",
    "    \n",
    "    index = int(indices[max_value])\n",
    "    best_node = root.children[index]\n",
    "\n",
    "    return best_node.state\n"
   ]
  },
  {
   "attachments": {},
   "cell_type": "markdown",
   "metadata": {},
   "source": [
    "# Test"
   ]
  },
  {
   "attachments": {},
   "cell_type": "markdown",
   "metadata": {},
   "source": [
    "### Random"
   ]
  },
  {
   "attachments": {},
   "cell_type": "markdown",
   "metadata": {},
   "source": [
    "### Perform Action"
   ]
  },
  {
   "cell_type": "code",
   "execution_count": 11,
   "metadata": {},
   "outputs": [
    {
     "name": "stdout",
     "output_type": "stream",
     "text": [
      "start\n",
      "\tplayer: 2\n",
      "\tactions: [1, 5, 6]\n",
      "\tgame over/ winner: False/ None\n",
      "\n",
      "after column 5\n",
      "\tplayer: 1\n",
      "\tactions: [1, 5, 6]\n",
      "\tgame over/ winner: False/ None\n",
      "\n",
      "after column 6\n",
      "\tplayer: 2\n",
      "\tactions: [1, 5, 6]\n",
      "\tgame over/ winner: False/ None\n",
      "\n",
      "after column 6\n",
      "\tplayer: 1\n",
      "\tactions: [1, 5]\n",
      "\tgame over/ winner: False/ None\n",
      "\n",
      "after column 5\n",
      "\tplayer: 2\n",
      "\tactions: [1]\n",
      "\tgame over/ winner: False/ None\n",
      "\n",
      "after column 1\n",
      "\tplayer: 1\n",
      "\tactions: []\n",
      "\tgame over/ winner: True/ None\n",
      "\n"
     ]
    },
    {
     "data": {
      "image/png": "[encoded data removed]",
      "text/plain": [
       "<Figure size 432x288 with 6 Axes>"
      ]
     },
     "metadata": {
      "needs_background": "light"
     },
     "output_type": "display_data"
    }
   ],
   "source": [
    "one_wins = False\n",
    "two_wins = False\n",
    "draw = True\n",
    "\n",
    "\n",
    "initial_board = np.zeros((6, 7), int)\n",
    "state = State(board = initial_board, player = 2)\n",
    "\n",
    "state.board = np.array([\n",
    "    [1, 0, 2 ,1 ,1, 0, 0],\n",
    "    [2, 2, 1, 2, 2, 0, 0],\n",
    "    [1, 1, 2, 2, 1, 2, 1],\n",
    "    [2, 2, 1, 1, 1, 2, 2],\n",
    "    [1, 1, 2, 1, 2, 1, 1],\n",
    "    [2, 2, 1, 2, 2, 1, 2],\n",
    "    ])\n",
    "\n",
    "\n",
    "if one_wins:\n",
    "    fig, ax = plt.subplots(ncols=5)\n",
    "    ax[0].imshow(state.board)\n",
    "\n",
    "    print(f\"start\\n\\tplayer: {state.player}\\n\\tactions: {state.get_actions()}\\n\\tgame over/ winner: {state.game_over}/ {state.winner}\\n\")\n",
    "\n",
    "    state = state.perform_action(6)\n",
    "    ax[1].imshow(state.board)\n",
    "    print(f\"after column 6\\n\\tplayer: {state.player}\\n\\tactions: {state.get_actions()}\\n\\tgame over/ winner: {state.game_over}/ {state.winner}\\n\")\n",
    "\n",
    "    state = state.perform_action(5)\n",
    "    ax[2].imshow(state.board)\n",
    "    print(f\"after column 5\\n\\tplayer: {state.player}\\n\\tactions: {state.get_actions()}\\n\\tgame over/ winner: {state.game_over}/ {state.winner}\\n\")\n",
    "    \n",
    "    state = state.perform_action(5)\n",
    "    ax[3].imshow(state.board)\n",
    "    print(f\"after column 5\\n\\tplayer: {state.player}\\n\\tactions: {state.get_actions()}\\n\\tgame over/ winner: {state.game_over}/ {state.winner}\\n\")\n",
    "\n",
    "    state = state.perform_action(6)\n",
    "    ax[4].imshow(state.board)\n",
    "    print(f\"after column 6\\n\\tplayer: {state.player}\\n\\tactions: {state.get_actions()}\\n\\tgame over/ winner: {state.game_over}/ {state.winner}\\n\")\n",
    "    \n",
    "    plt.show()\n",
    "    \n",
    "elif two_wins:\n",
    "    fig, ax = plt.subplots(ncols=4)\n",
    "    ax[0].imshow(state.board)\n",
    "\n",
    "    print(f\"start\\n\\tplayer: {state.player}\\n\\tactions: {state.get_actions()}\\n\\tgame over/ winner: {state.game_over}/ {state.winner}\\n\")\n",
    "\n",
    "    state = state.perform_action(6)\n",
    "    ax[1].imshow(state.board)\n",
    "    print(f\"after column 6\\n\\tplayer: {state.player}\\n\\tactions: {state.get_actions()}\\n\\tgame over/ winner: {state.game_over}/ {state.winner}\\n\")\n",
    "\n",
    "    state = state.perform_action(6)\n",
    "    ax[2].imshow(state.board)\n",
    "    print(f\"after column 6\\n\\tplayer: {state.player}\\n\\tactions: {state.get_actions()}\\n\\tgame over/ winner: {state.game_over}/ {state.winner}\\n\")\n",
    "    \n",
    "    state = state.perform_action(5)\n",
    "    ax[3].imshow(state.board)\n",
    "    print(f\"after column 5\\n\\tplayer: {state.player}\\n\\tactions: {state.get_actions()}\\n\\tgame over/ winner: {state.game_over}/ {state.winner}\\n\")\n",
    "    \n",
    "    plt.show()\n",
    "    \n",
    "elif draw:\n",
    "    fig, ax = plt.subplots(ncols=6)\n",
    "    ax[0].imshow(state.board)\n",
    "\n",
    "    print(f\"start\\n\\tplayer: {state.player}\\n\\tactions: {state.get_actions()}\\n\\tgame over/ winner: {state.game_over}/ {state.winner}\\n\")\n",
    "\n",
    "    state = state.perform_action(5)\n",
    "    ax[1].imshow(state.board)\n",
    "    print(f\"after column 5\\n\\tplayer: {state.player}\\n\\tactions: {state.get_actions()}\\n\\tgame over/ winner: {state.game_over}/ {state.winner}\\n\")\n",
    "\n",
    "    state = state.perform_action(6)\n",
    "    ax[2].imshow(state.board)\n",
    "    print(f\"after column 6\\n\\tplayer: {state.player}\\n\\tactions: {state.get_actions()}\\n\\tgame over/ winner: {state.game_over}/ {state.winner}\\n\")\n",
    "    \n",
    "    state = state.perform_action(6)\n",
    "    ax[3].imshow(state.board)\n",
    "    print(f\"after column 6\\n\\tplayer: {state.player}\\n\\tactions: {state.get_actions()}\\n\\tgame over/ winner: {state.game_over}/ {state.winner}\\n\")\n",
    "    \n",
    "    state = state.perform_action(5)\n",
    "    ax[4].imshow(state.board)\n",
    "    print(f\"after column 5\\n\\tplayer: {state.player}\\n\\tactions: {state.get_actions()}\\n\\tgame over/ winner: {state.game_over}/ {state.winner}\\n\")\n",
    "    \n",
    "    state = state.perform_action(1)\n",
    "    ax[5].imshow(state.board)\n",
    "    print(f\"after column 1\\n\\tplayer: {state.player}\\n\\tactions: {state.get_actions()}\\n\\tgame over/ winner: {state.game_over}/ {state.winner}\\n\")\n",
    "    \n",
    "    plt.show()"
   ]
  },
  {
   "attachments": {},
   "cell_type": "markdown",
   "metadata": {},
   "source": [
    "### check win"
   ]
  },
  {
   "cell_type": "code",
   "execution_count": 12,
   "metadata": {},
   "outputs": [
    {
     "name": "stdout",
     "output_type": "stream",
     "text": [
      "diagonal upwards: 2 <-- should be 2\n",
      "tested at (0, 4)\n",
      "\n",
      "diagonal downwards: 1 <-- should be 1\n",
      "tested at (4, 3)\n",
      "\n",
      "horizontal: 2 <-- should be 2\n",
      "tested at (5, 6)\n",
      "\n",
      "horizontal: 1 <-- should be 1\n",
      "tested at (1, 4)\n",
      "\n"
     ]
    }
   ],
   "source": [
    "initial_board = np.zeros((6, 7), int)\n",
    "state = State(board = initial_board, player = 2)\n",
    "\n",
    "# diagonal upwards\n",
    "state.board = np.array([\n",
    "    [1, 0, 2 ,1 ,2, 0, 0],\n",
    "    [2, 2, 1, 2, 2, 0, 0],\n",
    "    [1, 1, 2, 2, 1, 2, 1],\n",
    "    [2, 2, 1, 1, 1, 2, 2],\n",
    "    [1, 1, 2, 1, 2, 1, 1],\n",
    "    [2, 2, 1, 2, 2, 1, 2],\n",
    "    ])\n",
    "\n",
    "winner = state.check_win(state.board, 0, 4)\n",
    "print(f\"diagonal upwards: {winner} <-- should be 2\\ntested at (0, 4)\\n\")\n",
    "\n",
    "# diagonal downwards\n",
    "state.player = state.change_player()\n",
    "state.board = np.array([\n",
    "    [1, 0, 2 ,1 ,1, 0, 0],\n",
    "    [2, 2, 1, 2, 2, 0, 0],\n",
    "    [1, 1, 2, 2, 1, 2, 1],\n",
    "    [2, 2, 1, 1, 1, 2, 2],\n",
    "    [1, 1, 2, 1, 2, 1, 1],\n",
    "    [2, 2, 1, 2, 1, 1, 2],\n",
    "    ])\n",
    "\n",
    "winner = state.check_win(state.board, 4, 3)\n",
    "print(f\"diagonal downwards: {winner} <-- should be 1\\ntested at (4, 3)\\n\")\n",
    "\n",
    "# horizontal\n",
    "state.player = state.change_player()\n",
    "state.board = np.array([\n",
    "    [1, 0, 2 ,1 ,1, 0, 0],\n",
    "    [2, 2, 1, 2, 2, 0, 0],\n",
    "    [1, 1, 2, 2, 1, 2, 1],\n",
    "    [2, 2, 1, 1, 1, 2, 2],\n",
    "    [1, 1, 2, 1, 2, 1, 1],\n",
    "    [2, 2, 1, 2, 2, 2, 2],\n",
    "    ])\n",
    "\n",
    "winner = state.check_win(state.board, 5, 6)\n",
    "print(f\"horizontal: {winner} <-- should be 2\\ntested at (5, 6)\\n\")\n",
    "\n",
    "# vertical\n",
    "state.player = state.change_player()\n",
    "state.board = np.array([\n",
    "    [1, 0, 2 ,1 ,1, 0, 0],\n",
    "    [2, 2, 1, 2, 1, 0, 0],\n",
    "    [1, 1, 2, 2, 1, 2, 1],\n",
    "    [2, 2, 1, 1, 1, 2, 2],\n",
    "    [1, 1, 2, 1, 2, 1, 1],\n",
    "    [2, 2, 1, 2, 2, 2, 2],\n",
    "    ])\n",
    "\n",
    "winner = state.check_win(state.board, 1, 4)\n",
    "print(f\"horizontal: {winner} <-- should be 1\\ntested at (1, 4)\\n\")"
   ]
  },
  {
   "attachments": {},
   "cell_type": "markdown",
   "metadata": {},
   "source": [
    "### simulation"
   ]
  },
  {
   "cell_type": "code",
   "execution_count": 13,
   "metadata": {},
   "outputs": [
    {
     "name": "stdout",
     "output_type": "stream",
     "text": [
      "1\n"
     ]
    },
    {
     "data": {
      "image/png": "[encoded data removed]",
      "text/plain": [
       "<Figure size 432x288 with 1 Axes>"
      ]
     },
     "metadata": {
      "needs_background": "light"
     },
     "output_type": "display_data"
    }
   ],
   "source": [
    "initial_board = np.zeros((6, 7), int)\n",
    "state = State(board = initial_board, player = 2)\n",
    "\n",
    "state.board = np.array([\n",
    "    [1, 0, 2 ,1 ,0, 0, 0],\n",
    "    [2, 2, 1, 2, 0, 0, 0],\n",
    "    [1, 1, 2, 2, 1, 0, 1],\n",
    "    [2, 2, 1, 1, 2, 1, 2],\n",
    "    [1, 1, 2, 1, 2, 2, 1],\n",
    "    [2, 2, 1, 2, 2, 1, 1],\n",
    "    ])\n",
    "\n",
    "root = Node(None, state)\n",
    "\n",
    "winner, sim_state = simulate(root)\n",
    "\n",
    "plt.imshow(sim_state)\n",
    "print(winner)"
   ]
  },
  {
   "attachments": {},
   "cell_type": "markdown",
   "metadata": {},
   "source": [
    "#### Selection - First Turn"
   ]
  },
  {
   "cell_type": "code",
   "execution_count": 14,
   "metadata": {},
   "outputs": [
    {
     "name": "stdout",
     "output_type": "stream",
     "text": [
      "random picks: [0.25  0.236 0.27  0.244]\n",
      "root children: 1\n"
     ]
    }
   ],
   "source": [
    "# setup small board\n",
    "\n",
    "initial_board = np.zeros((4, 4), int)\n",
    "state = State(board = initial_board, player = 1)\n",
    "\n",
    "# check random picks --> should be close to equally distributed\n",
    "picked_nodes = np.zeros_like(state.board)\n",
    "for i in range(500):\n",
    "    node = Node(None, state)\n",
    "    new_node = select_node(node)\n",
    "    picked_nodes = picked_nodes + new_node.state.board\n",
    "\n",
    "picked_nodes = picked_nodes[3, :] / 500\n",
    "print(f\"random picks: {picked_nodes}\")\n",
    "print(f\"root children: {len(node.children)}\")"
   ]
  },
  {
   "attachments": {},
   "cell_type": "markdown",
   "metadata": {},
   "source": [
    "#### Selection - tree expansion"
   ]
  },
  {
   "cell_type": "code",
   "execution_count": 15,
   "metadata": {},
   "outputs": [
    {
     "name": "stdout",
     "output_type": "stream",
     "text": [
      "Before Expansion\n",
      "Sum of positions of root's cildren: [1 1 1 1] <-- should be [1, 1, 1, 1]\n",
      "times_tested: Root = 4, Sum of children = 4 with 4 children\n",
      "\n",
      "\n",
      "Stats for decision making\n",
      "wins per child node: [1, 0, 0, 0]\n",
      "[2.66510922 1.66510922 1.66510922 1.66510922]\n",
      "[0, 1, 2, 3]\n"
     ]
    },
    {
     "data": {
      "text/plain": [
       "array([[0, 0, 0, 0],\n",
       "       [0, 0, 0, 0],\n",
       "       [0, 0, 0, 0],\n",
       "       [1, 0, 2, 0]])"
      ]
     },
     "execution_count": 15,
     "metadata": {},
     "output_type": "execute_result"
    }
   ],
   "source": [
    "# setup small board\n",
    "\n",
    "initial_board = np.zeros((4, 4), int)\n",
    "state = State(board = initial_board, player = 1)\n",
    "\n",
    "node = Node(None, state)\n",
    "\n",
    "# get first 4 calculations\n",
    "for i in range(4):\n",
    "    new_node = select_node(node)\n",
    "    winner, _ = simulate(node)\n",
    "    backpropagate(new_node, winner)\n",
    "    \n",
    "# check if every position is taken\n",
    "positions = np.array([0, 0, 0, 0])\n",
    "times_tested = 0\n",
    "for child in node.children:\n",
    "    positions += child.state.board[3,:]\n",
    "    times_tested += child.times_tested \n",
    "\n",
    "print(\"Before Expansion\")\n",
    "print(f\"Sum of positions of root's cildren: {positions} <-- should be [1, 1, 1, 1]\")\n",
    "print(f\"times_tested: Root = {node.times_tested}, Sum of children = {times_tested} with {len(node.children)} children\")\n",
    "print(\"\\n\")\n",
    "print(\"Stats for decision making\")\n",
    "times_won = [child.times_won for child in node.children]\n",
    "print(f\"wins per child node: {times_won}\")\n",
    "\n",
    "new_node = select_node(node)\n",
    "print(new_node.edges)\n",
    "new_node.state.board"
   ]
  },
  {
   "cell_type": "code",
   "execution_count": 16,
   "metadata": {},
   "outputs": [
    {
     "ename": "AttributeError",
     "evalue": "'Node' object has no attribute 'edges'",
     "output_type": "error",
     "traceback": [
      "\u001b[1;31m---------------------------------------------------------------------------\u001b[0m",
      "\u001b[1;31mAttributeError\u001b[0m                            Traceback (most recent call last)",
      "\u001b[1;32mC:\\Users\\SEBAST~1.JAE\\AppData\\Local\\Temp/ipykernel_3384/458820377.py\u001b[0m in \u001b[0;36m<module>\u001b[1;34m\u001b[0m\n\u001b[0;32m     10\u001b[0m \u001b[1;31m# get first 4 calculations\u001b[0m\u001b[1;33m\u001b[0m\u001b[1;33m\u001b[0m\u001b[0m\n\u001b[0;32m     11\u001b[0m \u001b[1;32mfor\u001b[0m \u001b[0mi\u001b[0m \u001b[1;32min\u001b[0m \u001b[0mrange\u001b[0m\u001b[1;33m(\u001b[0m\u001b[1;36m100\u001b[0m\u001b[1;33m)\u001b[0m\u001b[1;33m:\u001b[0m\u001b[1;33m\u001b[0m\u001b[1;33m\u001b[0m\u001b[0m\n\u001b[1;32m---> 12\u001b[1;33m     \u001b[0mnew_node\u001b[0m \u001b[1;33m=\u001b[0m \u001b[0mselect_node\u001b[0m\u001b[1;33m(\u001b[0m\u001b[0mnode\u001b[0m\u001b[1;33m)\u001b[0m\u001b[1;33m\u001b[0m\u001b[1;33m\u001b[0m\u001b[0m\n\u001b[0m\u001b[0;32m     13\u001b[0m     \u001b[0mwinner\u001b[0m\u001b[1;33m,\u001b[0m \u001b[0m_\u001b[0m \u001b[1;33m=\u001b[0m \u001b[0msimulate\u001b[0m\u001b[1;33m(\u001b[0m\u001b[0mnode\u001b[0m\u001b[1;33m)\u001b[0m\u001b[1;33m\u001b[0m\u001b[1;33m\u001b[0m\u001b[0m\n\u001b[0;32m     14\u001b[0m     \u001b[0mbackpropagate\u001b[0m\u001b[1;33m(\u001b[0m\u001b[0mnew_node\u001b[0m\u001b[1;33m,\u001b[0m \u001b[0mwinner\u001b[0m\u001b[1;33m)\u001b[0m\u001b[1;33m\u001b[0m\u001b[1;33m\u001b[0m\u001b[0m\n",
      "\u001b[1;32mC:\\Users\\SEBAST~1.JAE\\AppData\\Local\\Temp/ipykernel_3384/430585092.py\u001b[0m in \u001b[0;36mselect_node\u001b[1;34m(node)\u001b[0m\n\u001b[0;32m     40\u001b[0m \u001b[1;33m\u001b[0m\u001b[0m\n\u001b[0;32m     41\u001b[0m     \u001b[1;31m# check if untested actions are available\u001b[0m\u001b[1;33m\u001b[0m\u001b[1;33m\u001b[0m\u001b[0m\n\u001b[1;32m---> 42\u001b[1;33m     \u001b[1;32mif\u001b[0m \u001b[0mnode\u001b[0m\u001b[1;33m.\u001b[0m\u001b[0medges\u001b[0m\u001b[1;33m:\u001b[0m\u001b[1;33m\u001b[0m\u001b[1;33m\u001b[0m\u001b[0m\n\u001b[0m\u001b[0;32m     43\u001b[0m \u001b[1;33m\u001b[0m\u001b[0m\n\u001b[0;32m     44\u001b[0m         \u001b[1;31m# pick a random untested action\u001b[0m\u001b[1;33m\u001b[0m\u001b[1;33m\u001b[0m\u001b[0m\n",
      "\u001b[1;31mAttributeError\u001b[0m: 'Node' object has no attribute 'edges'"
     ]
    }
   ],
   "source": [
    "from treelib import Node, Tree\n",
    "\n",
    "# setup small board\n",
    "\n",
    "initial_board = np.zeros((4, 4), int)\n",
    "state = State(board = initial_board, player = 1)\n",
    "\n",
    "node = Node(None, state)\n",
    "\n",
    "# get first 4 calculations\n",
    "for i in range(100):\n",
    "    new_node = select_node(node)\n",
    "    winner, _ = simulate(node)\n",
    "    backpropagate(new_node, winner)\n",
    "\n",
    "tree = Tree()\n",
    "tree.create_node(f\"wins: {node.times_won}\\ntests: {node.times_tested}\\nboard: {node.state.board}\")\n",
    "\n",
    "f\n"
   ]
  },
  {
   "cell_type": "code",
   "execution_count": 17,
   "metadata": {},
   "outputs": [
    {
     "ename": "AttributeError",
     "evalue": "'Node' object has no attribute 'edges'",
     "output_type": "error",
     "traceback": [
      "\u001b[1;31m---------------------------------------------------------------------------\u001b[0m",
      "\u001b[1;31mAttributeError\u001b[0m                            Traceback (most recent call last)",
      "\u001b[1;32mC:\\Users\\SEBAST~1.JAE\\AppData\\Local\\Temp/ipykernel_3384/1413026263.py\u001b[0m in \u001b[0;36m<module>\u001b[1;34m\u001b[0m\n\u001b[0;32m     15\u001b[0m \u001b[0mplt\u001b[0m\u001b[1;33m.\u001b[0m\u001b[0mstyle\u001b[0m\u001b[1;33m.\u001b[0m\u001b[0muse\u001b[0m\u001b[1;33m(\u001b[0m\u001b[1;34m'seaborn-darkgrid'\u001b[0m\u001b[1;33m)\u001b[0m\u001b[1;33m\u001b[0m\u001b[1;33m\u001b[0m\u001b[0m\n\u001b[0;32m     16\u001b[0m \u001b[1;33m\u001b[0m\u001b[0m\n\u001b[1;32m---> 17\u001b[1;33m \u001b[0mprint\u001b[0m\u001b[1;33m(\u001b[0m\u001b[1;34mf\"root -> edges {root.edges}, children {len(root.children)}, tests {root.times_tested}, wins {root.times_won}\"\u001b[0m\u001b[1;33m)\u001b[0m\u001b[1;33m\u001b[0m\u001b[1;33m\u001b[0m\u001b[0m\n\u001b[0m\u001b[0;32m     18\u001b[0m \u001b[1;33m\u001b[0m\u001b[0m\n\u001b[0;32m     19\u001b[0m \u001b[1;32mfor\u001b[0m \u001b[0mi\u001b[0m \u001b[1;32min\u001b[0m \u001b[0mrange\u001b[0m\u001b[1;33m(\u001b[0m\u001b[1;36m500\u001b[0m\u001b[1;33m)\u001b[0m\u001b[1;33m:\u001b[0m\u001b[1;33m\u001b[0m\u001b[1;33m\u001b[0m\u001b[0m\n",
      "\u001b[1;31mAttributeError\u001b[0m: 'Node' object has no attribute 'edges'"
     ]
    }
   ],
   "source": [
    "initial_board = np.zeros((6, 7), int)\n",
    "state = State(board = initial_board, player = 2)\n",
    "\n",
    "# state.board = np.array([\n",
    "#     [1, 0, 2 ,0 ,0, 0, 0],\n",
    "#     [2, 2, 1, 0, 0, 0, 0],\n",
    "#     [1, 1, 2, 0, 1, 0, 1],\n",
    "#     [2, 2, 1, 0, 2, 1, 2],\n",
    "#     [1, 1, 2, 1, 2, 2, 1],\n",
    "#     [2, 2, 1, 2, 2, 1, 1],\n",
    "#     ])\n",
    "\n",
    "root = Node(None, state)\n",
    "\n",
    "plt.style.use('seaborn-darkgrid')\n",
    "\n",
    "print(f\"root -> edges {root.edges}, children {len(root.children)}, tests {root.times_tested}, wins {root.times_won}\")\n",
    "   \n",
    "for i in range(500):\n",
    "    node = select_node(root)\n",
    "    winner, sim_state = simulate(node)\n",
    "    backpropagate(node, winner)\n",
    "\n",
    "print(f\"root -> edges {root.edges}, children {len(root.children)}, tests {root.times_tested}, wins {root.times_won}\")  \n",
    "print([child.times_won / child.times_tested for child in root.children])\n",
    "\n",
    "action_values = [child.times_won / child.times_tested for child in root.children]\n",
    "turn_2_state = root.children[np.argmax(action_values)].state\n",
    "\n",
    "plt.imshow(turn_2_state.board)\n",
    "plt.show()\n",
    "\n",
    "for child in root.children:\n",
    "    plt.imshow(child.state.board)\n",
    "    plt.show()\n",
    "    if np.array_equal(turn_2_state.board, child.state.board):\n",
    "        print(\"Action found\")"
   ]
  },
  {
   "cell_type": "code",
   "execution_count": null,
   "metadata": {},
   "outputs": [
    {
     "name": "stdout",
     "output_type": "stream",
     "text": [
      "!\n"
     ]
    }
   ],
   "source": [
    "a = np.array([\n",
    "    [1, 0, 2 ,0 ,0, 0, 0],\n",
    "    [2, 2, 1, 0, 0, 0, 0],\n",
    "    [1, 1, 2, 0, 1, 0, 1],\n",
    "    [2, 2, 1, 0, 2, 1, 2],\n",
    "    [1, 1, 2, 1, 2, 2, 1],\n",
    "    [2, 2, 1, 2, 2, 1, 1],\n",
    "    ])\n",
    "\n",
    "b = np.array([\n",
    "    [1, 0, 2 ,0 ,0, 0, 0],\n",
    "    [2, 2, 1, 0, 0, 0, 0],\n",
    "    [1, 1, 2, 0, 1, 0, 1],\n",
    "    [2, 2, 1, 0, 2, 1, 2],\n",
    "    [1, 1, 2, 1, 2, 2, 1],\n",
    "    [2, 2, 1, 2, 2, 1, 1],\n",
    "    ])\n",
    "\n",
    "if np.array_equal(a, b):\n",
    "    print(\"!\")"
   ]
  }
 ],
 "metadata": {
  "kernelspec": {
   "display_name": "base",
   "language": "python",
   "name": "python3"
  },
  "language_info": {
   "codemirror_mode": {
    "name": "ipython",
    "version": 3
   },
   "file_extension": ".py",
   "mimetype": "text/x-python",
   "name": "python",
   "nbconvert_exporter": "python",
   "pygments_lexer": "ipython3",
   "version": "3.9.7"
  },
  "orig_nbformat": 4,
  "vscode": {
   "interpreter": {
    "hash": "f970a4df7d20f1185ed003fdc4111c4356fb1f6e15a77319f2d0dcda97ed7847"
   }
  }
 },
 "nbformat": 4,
 "nbformat_minor": 2
}
